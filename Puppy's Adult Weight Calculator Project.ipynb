{
 "cells": [
  {
   "cell_type": "markdown",
   "id": "48a36e5b",
   "metadata": {},
   "source": [
    "# Puppy's Adult Weight Calculator\n",
    "\n",
    "Website: https://www.dutch.com/blogs/dogs/puppy-weight-calculator"
   ]
  },
  {
   "cell_type": "code",
   "execution_count": null,
   "id": "0945281f",
   "metadata": {},
   "outputs": [],
   "source": [
    "name = input (\"Enter your puppy's name: \")\n",
    "\n",
    "#Weight and handle invalid weight input\n",
    "\n",
    "while True:\n",
    "    try:\n",
    "        weight = float(input(\"Enter your puppy's weight in pounds: \"))\n",
    "        break\n",
    "    except ValueError:\n",
    "        print(\"Invalid input. Please enter a valid weight.\")\n",
    "        \n",
    "#Age in weeks and handle invalid age input\n",
    "       \n",
    "while True:\n",
    "    try:\n",
    "        age = float(input(\"Enter your puppies's age in weeks: \"))\n",
    "        break\n",
    "    except ValueError:\n",
    "        print(\"Invalid input. Please enter a valid age in weeks.\")\n",
    "        \n",
    "#Adult weight formula \n",
    "\n",
    "adult_weight = (weight / age) * 52\n",
    "\n",
    "print(adult_weight)\n",
    "\n",
    "#If statements \n",
    "\n",
    "if adult_weight<=12:\n",
    "        print(name + \" is an x-small dog.\")\n",
    "elif(adult_weight<=20):\n",
    "        print(name + \" is a small dog.\")\n",
    "elif(adult_weight <= 49):\n",
    "        print(name + \" is a medium dog.\")\n",
    "elif(adult_weight<= 100):\n",
    "        print(name + \" is a large dog.\")\n",
    "else: \n",
    "    print(name + \" is a giant dog.\""
   ]
  }
 ],
 "metadata": {
  "kernelspec": {
   "display_name": "Python 3 (ipykernel)",
   "language": "python",
   "name": "python3"
  },
  "language_info": {
   "codemirror_mode": {
    "name": "ipython",
    "version": 3
   },
   "file_extension": ".py",
   "mimetype": "text/x-python",
   "name": "python",
   "nbconvert_exporter": "python",
   "pygments_lexer": "ipython3",
   "version": "3.9.13"
  }
 },
 "nbformat": 4,
 "nbformat_minor": 5
}
